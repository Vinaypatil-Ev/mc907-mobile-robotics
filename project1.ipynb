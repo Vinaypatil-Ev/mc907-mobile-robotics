{
 "cells": [
  {
   "cell_type": "markdown",
   "metadata": {},
   "source": [
    "Posicao dos sonares:       \n",
    "                           s03  s04\n",
    "                        s02      s05\n",
    "                        s01        s06\n",
    "                       s00          s07\n",
    "                   Motor 1          Motor 0\n",
    "                       s15          s08\n",
    "                        s14        s09\n",
    "                         s13      s10\n",
    "                           s12  s11"
   ]
  },
  {
   "cell_type": "code",
   "execution_count": 1,
   "metadata": {},
   "outputs": [],
   "source": [
    "from lib import vrep\n",
    "import sys, time\n",
    "from src import robot as rb"
   ]
  },
  {
   "cell_type": "code",
   "execution_count": 46,
   "metadata": {},
   "outputs": [],
   "source": [
    "class Walker():\n",
    "    def __init__(self, robot):\n",
    "        self.robot = robot\n",
    "        self.pose = []\n",
    "        self.orientation = []\n",
    "    \n",
    "    def find_wall(self):\n",
    "        \"\"\"\n",
    "            Function that aims to find a wall in the front of the robot\n",
    "        \"\"\"\n",
    "        #  read the sonars\n",
    "        sensors = self.robot.read_ultrassonic_sensors()\n",
    "        \n",
    "        # set the initial velocity\n",
    "        self.robot.set_left_velocity(3)\n",
    "        self.robot.set_right_velocity(3)\n",
    "        \n",
    "        # loop to make the robot walk until he finds a wall\n",
    "        while sensors[3] > 0.8 and sensors[4] > 0.8:\n",
    "            self.pose.append(self.robot.get_current_position())\n",
    "            self.pose.append(self.robot.get_current_orientation())\n",
    "            sensors = self.robot.read_ultrassonic_sensors()\n",
    "        \n",
    "        # stop the robot and return\n",
    "        self.robot.stop()\n",
    "        \n",
    "        return\n",
    "    \n",
    "    def turn_left(self):\n",
    "        # read the sonar sensors\n",
    "        sensors = self.robot.read_ultrassonic_sensors()\n",
    "        \n",
    "        # start the motors velocity\n",
    "        self.robot.set_left_velocity(1.5)\n",
    "        self.robot.set_right_velocity(0)\n",
    "        \n",
    "        while (sensors[0] > 0.5 and sensors[15] > 0.5) or (sensors[0] - sensors[15] > 0.1) or (sensors[15] - sensors[0] > 0.1):\n",
    "            sensors = self.robot.read_ultrassonic_sensors()\n",
    "        \n",
    "        self.robot.stop()\n",
    "        \n",
    "        return"
   ]
  },
  {
   "cell_type": "code",
   "execution_count": null,
   "metadata": {},
   "outputs": [],
   "source": []
  },
  {
   "cell_type": "code",
   "execution_count": null,
   "metadata": {},
   "outputs": [],
   "source": []
  },
  {
   "cell_type": "markdown",
   "metadata": {},
   "source": [
    "DAQUI PRA BAIXO É TESTE"
   ]
  },
  {
   "cell_type": "code",
   "execution_count": 37,
   "metadata": {
    "scrolled": true
   },
   "outputs": [
    {
     "name": "stdout",
     "output_type": "stream",
     "text": [
      "Connected to remoteApi server.\n",
      "\u001b[92m Pioneer_p3dx_ultrasonicSensor1 connected.\n",
      "\u001b[92m Pioneer_p3dx_ultrasonicSensor2 connected.\n",
      "\u001b[92m Pioneer_p3dx_ultrasonicSensor3 connected.\n",
      "\u001b[92m Pioneer_p3dx_ultrasonicSensor4 connected.\n",
      "\u001b[92m Pioneer_p3dx_ultrasonicSensor5 connected.\n",
      "\u001b[92m Pioneer_p3dx_ultrasonicSensor6 connected.\n",
      "\u001b[92m Pioneer_p3dx_ultrasonicSensor7 connected.\n",
      "\u001b[92m Pioneer_p3dx_ultrasonicSensor8 connected.\n",
      "\u001b[92m Pioneer_p3dx_ultrasonicSensor9 connected.\n",
      "\u001b[92m Pioneer_p3dx_ultrasonicSensor10 connected.\n",
      "\u001b[92m Pioneer_p3dx_ultrasonicSensor11 connected.\n",
      "\u001b[92m Pioneer_p3dx_ultrasonicSensor12 connected.\n",
      "\u001b[92m Pioneer_p3dx_ultrasonicSensor13 connected.\n",
      "\u001b[92m Pioneer_p3dx_ultrasonicSensor14 connected.\n",
      "\u001b[92m Pioneer_p3dx_ultrasonicSensor15 connected.\n",
      "\u001b[92m Pioneer_p3dx_ultrasonicSensor16 connected.\n",
      "\u001b[92m Vision sensor connected.\n",
      "\u001b[92m Laser connected.\n",
      "\u001b[92m Left motor connected.\n",
      "\u001b[92m Right motor connected.\n",
      "\u001b[92m Robot connected.\n"
     ]
    }
   ],
   "source": [
    "robot = rb.Robot()"
   ]
  },
  {
   "cell_type": "code",
   "execution_count": 47,
   "metadata": {},
   "outputs": [],
   "source": [
    "walker = Walker(robot)"
   ]
  },
  {
   "cell_type": "code",
   "execution_count": 31,
   "metadata": {},
   "outputs": [],
   "source": [
    "walker.find_wall()"
   ]
  },
  {
   "cell_type": "code",
   "execution_count": 48,
   "metadata": {},
   "outputs": [],
   "source": [
    "walker.turn_left()"
   ]
  },
  {
   "cell_type": "code",
   "execution_count": 40,
   "metadata": {},
   "outputs": [],
   "source": [
    "robot.stop()"
   ]
  },
  {
   "cell_type": "code",
   "execution_count": 35,
   "metadata": {},
   "outputs": [
    {
     "data": {
      "text/plain": [
       "[5.0,\n",
       " 5.0,\n",
       " 5.0,\n",
       " 5.0,\n",
       " 5.0,\n",
       " 5.0,\n",
       " 0.29480084776878357,\n",
       " 0.2422020137310028,\n",
       " 0.22843880951404572,\n",
       " 0.2559307813644409,\n",
       " 0.37238508462905884,\n",
       " 0.3468392789363861,\n",
       " 0.3513149917125702,\n",
       " 0.36664441227912903,\n",
       " 0.4614036977291107,\n",
       " 5.0]"
      ]
     },
     "execution_count": 35,
     "metadata": {},
     "output_type": "execute_result"
    }
   ],
   "source": [
    "robot.read_ultrassonic_sensors()"
   ]
  },
  {
   "cell_type": "code",
   "execution_count": null,
   "metadata": {},
   "outputs": [],
   "source": []
  }
 ],
 "metadata": {
  "kernelspec": {
   "display_name": "Python 3",
   "language": "python",
   "name": "python3"
  },
  "language_info": {
   "codemirror_mode": {
    "name": "ipython",
    "version": 3
   },
   "file_extension": ".py",
   "mimetype": "text/x-python",
   "name": "python",
   "nbconvert_exporter": "python",
   "pygments_lexer": "ipython3",
   "version": "3.7.4"
  }
 },
 "nbformat": 4,
 "nbformat_minor": 2
}
