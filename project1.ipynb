{
 "cells": [
  {
   "cell_type": "code",
   "execution_count": 1,
   "metadata": {},
   "outputs": [],
   "source": [
    "from lib import vrep\n",
    "import sys, time\n",
    "from src import robot as rb"
   ]
  },
  {
   "cell_type": "code",
   "execution_count": 58,
   "metadata": {},
   "outputs": [],
   "source": [
    "class Walker():\n",
    "    \"\"\"\n",
    "    A class used to implement methods that allow a robot to walk, based on different behaviors.\n",
    "\n",
    "    ...\n",
    "\n",
    "    Attributes\n",
    "    ----------\n",
    "    robot : obj\n",
    "        the robot object\n",
    "    pose : list\n",
    "        list to store the robot's pose during his movement\n",
    "    orientation : list\n",
    "        list to store the robot's orientation during his movement\n",
    "\n",
    "    Methods\n",
    "    -------\n",
    "    find_wall()\n",
    "        Function that aims to find a wall in the front of the robot.\n",
    "    turn_left()\n",
    "        Function that aims to make the robot turn left.\n",
    "    follow_wall()\n",
    "        Function that aims to make the robot follow the wall that stays at his left side.\n",
    "    \"\"\"\n",
    "    def __init__(self, robot):\n",
    "        \"\"\"\n",
    "            Instanciate the object\n",
    "        \"\"\"\n",
    "        self.robot = robot\n",
    "        self.pose = []\n",
    "        self.orientation = []\n",
    "    \n",
    "    def find_wall(self):\n",
    "        \"\"\"\n",
    "            Function that aims to find a wall in the front of the robot.\n",
    "        \"\"\"\n",
    "        #  read the sonars\n",
    "        sensors = self.robot.read_ultrassonic_sensors()\n",
    "        \n",
    "        # set the initial velocity\n",
    "        self.robot.set_left_velocity(3)\n",
    "        self.robot.set_right_velocity(3)\n",
    "        \n",
    "        # loop to make the robot walk until he finds a wall\n",
    "        while sensors[3] > 0.8 and sensors[4] > 0.8:\n",
    "            self.pose.append(self.robot.get_current_position())\n",
    "            self.orientation.append(self.robot.get_current_orientation())\n",
    "            sensors = self.robot.read_ultrassonic_sensors()\n",
    "        \n",
    "        # stop the robot and return\n",
    "        self.robot.stop()\n",
    "        \n",
    "        return\n",
    "    \n",
    "    def turn_left(self):\n",
    "        \"\"\"\n",
    "            Function that aims to make the robot turn left.\n",
    "        \"\"\"\n",
    "        # read the sonar sensors\n",
    "        sensors = self.robot.read_ultrassonic_sensors()\n",
    "        \n",
    "        # start the motors velocity\n",
    "        self.robot.set_left_velocity(1.5)\n",
    "        self.robot.set_right_velocity(0)\n",
    "        \n",
    "        while (sensors[0] > 0.5 and sensors[15] > 0.5) or (sensors[0] - sensors[15] > 0.1) or (sensors[15] - sensors[0] > 0.1):\n",
    "            self.pose.append(self.robot.get_current_position())\n",
    "            self.orientation.append(self.robot.get_current_orientation())\n",
    "            sensors = self.robot.read_ultrassonic_sensors()\n",
    "        \n",
    "        self.robot.stop()\n",
    "        \n",
    "        return\n",
    "\n",
    "    def follow_wall(self):\n",
    "        \"\"\"\n",
    "            Function that aims to make the robot follow the wall that stays at his left side.\n",
    "        \"\"\"\n",
    "        while True:\n",
    "            sensors = self.robot.read_ultrassonic_sensors()\n",
    "            \n",
    "            if sensors[3] < 0.6 or sensors[4] < 0.6 or sensors[5] < 0.6 or sensors[6] < 0.6:\n",
    "                self.robot.set_right_velocity(0)\n",
    "                self.robot.set_left_velocity(1.5)\n",
    "            elif sensors[0] < 0.37 or sensors[1] < 0.37 or sensors[2] < 0.37:\n",
    "                self.robot.set_right_velocity(0)\n",
    "                self.robot.set_left_velocity(1.5)\n",
    "            elif sensors[0] > 0.55 or sensors[1] > 0.55:\n",
    "                self.robot.set_right_velocity(1.5)\n",
    "                self.robot.set_left_velocity(0)\n",
    "            else:\n",
    "                self.robot.set_right_velocity(1.5)\n",
    "                self.robot.set_left_velocity(1.5)\n",
    "            \n",
    "            self.pose.append(self.robot.get_current_position())\n",
    "            self.orientation.append(self.robot.get_current_orientation())"
   ]
  },
  {
   "cell_type": "markdown",
   "metadata": {},
   "source": [
    "DAQUI PRA BAIXO É TESTE"
   ]
  },
  {
   "cell_type": "code",
   "execution_count": null,
   "metadata": {},
   "outputs": [],
   "source": []
  },
  {
   "cell_type": "code",
   "execution_count": 37,
   "metadata": {
    "scrolled": true
   },
   "outputs": [
    {
     "name": "stdout",
     "output_type": "stream",
     "text": [
      "Connected to remoteApi server.\n",
      "\u001b[92m Pioneer_p3dx_ultrasonicSensor1 connected.\n",
      "\u001b[92m Pioneer_p3dx_ultrasonicSensor2 connected.\n",
      "\u001b[92m Pioneer_p3dx_ultrasonicSensor3 connected.\n",
      "\u001b[92m Pioneer_p3dx_ultrasonicSensor4 connected.\n",
      "\u001b[92m Pioneer_p3dx_ultrasonicSensor5 connected.\n",
      "\u001b[92m Pioneer_p3dx_ultrasonicSensor6 connected.\n",
      "\u001b[92m Pioneer_p3dx_ultrasonicSensor7 connected.\n",
      "\u001b[92m Pioneer_p3dx_ultrasonicSensor8 connected.\n",
      "\u001b[92m Pioneer_p3dx_ultrasonicSensor9 connected.\n",
      "\u001b[92m Pioneer_p3dx_ultrasonicSensor10 connected.\n",
      "\u001b[92m Pioneer_p3dx_ultrasonicSensor11 connected.\n",
      "\u001b[92m Pioneer_p3dx_ultrasonicSensor12 connected.\n",
      "\u001b[92m Pioneer_p3dx_ultrasonicSensor13 connected.\n",
      "\u001b[92m Pioneer_p3dx_ultrasonicSensor14 connected.\n",
      "\u001b[92m Pioneer_p3dx_ultrasonicSensor15 connected.\n",
      "\u001b[92m Pioneer_p3dx_ultrasonicSensor16 connected.\n",
      "\u001b[92m Vision sensor connected.\n",
      "\u001b[92m Laser connected.\n",
      "\u001b[92m Left motor connected.\n",
      "\u001b[92m Right motor connected.\n",
      "\u001b[92m Robot connected.\n"
     ]
    }
   ],
   "source": [
    "robot = rb.Robot()"
   ]
  },
  {
   "cell_type": "code",
   "execution_count": null,
   "metadata": {},
   "outputs": [],
   "source": []
  }
 ],
 "metadata": {
  "kernelspec": {
   "display_name": "Python 3",
   "language": "python",
   "name": "python3"
  },
  "language_info": {
   "codemirror_mode": {
    "name": "ipython",
    "version": 3
   },
   "file_extension": ".py",
   "mimetype": "text/x-python",
   "name": "python",
   "nbconvert_exporter": "python",
   "pygments_lexer": "ipython3",
   "version": "3.7.4"
  }
 },
 "nbformat": 4,
 "nbformat_minor": 2
}
